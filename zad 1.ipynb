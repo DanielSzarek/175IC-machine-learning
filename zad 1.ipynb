{
  "nbformat": 4,
  "nbformat_minor": 0,
  "metadata": {
    "colab": {
      "name": "Untitled2.ipynb",
      "provenance": [],
      "collapsed_sections": [],
      "authorship_tag": "ABX9TyPMkECtPnh0rDRj/hTdbQvP",
      "include_colab_link": true
    },
    "kernelspec": {
      "name": "python3",
      "display_name": "Python 3"
    }
  },
  "cells": [
    {
      "cell_type": "markdown",
      "metadata": {
        "id": "view-in-github",
        "colab_type": "text"
      },
      "source": [
        "<a href=\"https://colab.research.google.com/github/DanielSzarek/175IC-machine-learning/blob/main/zad%201.ipynb\" target=\"_parent\"><img src=\"https://colab.research.google.com/assets/colab-badge.svg\" alt=\"Open In Colab\"/></a>"
      ]
    },
    {
      "cell_type": "code",
      "metadata": {
        "id": "C2ZvYk16pgGP",
        "outputId": "2b5508be-9b36-480c-82ea-751ed25a7918",
        "colab": {
          "base_uri": "https://localhost:8080/"
        }
      },
      "source": [
        "import pandas as pd\n",
        "import numpy as np\n",
        "from sklearn.preprocessing import LabelEncoder, StandardScaler\n",
        "\n",
        "shop_data = {\n",
        "    'size': ['L', 'M', 'S', 'XL', 'L', 'M', 'S', 'S', 'M', 'XL', 'XL', 'M', 'L', 'L', 'XL', 'S', 'M', 'XL', 'M', 'L'],\n",
        "    'color': ['green', 'red', 'black', 'white', 'blue', 'red', 'yellow', 'black', 'green', 'brown', 'red', 'black', 'white', 'black', 'green', 'red', 'white', 'blue', 'blue', 'pink'],\n",
        "    'gender': ['female', 'female', 'female', 'male', 'male', 'female', 'male', 'female', 'male', 'female', 'female', 'male', 'female', 'female', 'male', 'male', 'female', 'female', 'male', 'female'],\n",
        "    'price': [149.0, 79.0, 70.0, 150.0, 85.0, 92.0, 15.0, 35.50, 49.99, 51.28, 250.0, 153.10, 125.85, 99.99, 100.99, 25.0, 85.0, 65.0, 50.0, 169.0],\n",
        "    'weight': [380, 410, 350, 390, 250, 280, 350, 150, 160, 200, 210, 250, 300, 750, 500, 450, 175, 100, 125, 350],\n",
        "    'bought': ['no', 'yes', 'yes', 'no', 'yes', 'yes', 'no', 'yes', 'no', 'no', 'yes', 'yes', 'no', 'no', 'yes', 'yes', 'yes', 'no', 'no', 'no']\n",
        "}\n",
        "\n",
        "df_shop_data_raw = pd.DataFrame(data=shop_data)\n",
        "df = df_shop_data_raw.copy()\n",
        "\n",
        "for col in ['size', 'color', 'gender', 'bought']:\n",
        "    df[col] = df[col].astype('category')\n",
        "df['weight'] = df['weight'].astype('float')\n",
        "\n",
        "le = LabelEncoder()\n",
        "df['bought'] = le.fit_transform(df['bought'])\n",
        "\n",
        "df = pd.get_dummies(data=df, drop_first=True)\n",
        "\n",
        "scaler = StandardScaler()\n",
        "df[['price', 'weight']] = scaler.fit_transform(df[['price', 'weight']])\n",
        "\n",
        "print(df_shop_data_raw)\n",
        "print(df)\n"
      ],
      "execution_count": 39,
      "outputs": [
        {
          "output_type": "stream",
          "text": [
            "   size   color  gender   price  weight bought\n",
            "0     L   green  female  149.00     380     no\n",
            "1     M     red  female   79.00     410    yes\n",
            "2     S   black  female   70.00     350    yes\n",
            "3    XL   white    male  150.00     390     no\n",
            "4     L    blue    male   85.00     250    yes\n",
            "5     M     red  female   92.00     280    yes\n",
            "6     S  yellow    male   15.00     350     no\n",
            "7     S   black  female   35.50     150    yes\n",
            "8     M   green    male   49.99     160     no\n",
            "9    XL   brown  female   51.28     200     no\n",
            "10   XL     red  female  250.00     210    yes\n",
            "11    M   black    male  153.10     250    yes\n",
            "12    L   white  female  125.85     300     no\n",
            "13    L   black  female   99.99     750     no\n",
            "14   XL   green    male  100.99     500    yes\n",
            "15    S     red    male   25.00     450    yes\n",
            "16    M   white  female   85.00     175    yes\n",
            "17   XL    blue  female   65.00     100     no\n",
            "18    M    blue    male   50.00     125     no\n",
            "19    L    pink  female  169.00     350     no\n",
            "       price    weight  bought  ...  color_white  color_yellow  gender_male\n",
            "0   0.964409  0.489943       0  ...            0             0            0\n",
            "1  -0.286562  0.689920       1  ...            0             0            0\n",
            "2  -0.447401  0.289966       1  ...            0             0            0\n",
            "3   0.982280  0.556602       0  ...            1             0            1\n",
            "4  -0.179336 -0.376623       1  ...            0             0            1\n",
            "5  -0.054239 -0.176646       1  ...            0             0            0\n",
            "6  -1.430307  0.289966       0  ...            0             1            1\n",
            "7  -1.063951 -1.043212       1  ...            0             0            0\n",
            "8  -0.805000 -0.976553       0  ...            0             0            1\n",
            "9  -0.781946 -0.709917       0  ...            0             0            0\n",
            "10  2.769382 -0.643258       1  ...            0             0            0\n",
            "11  1.037680 -0.376623       1  ...            0             0            1\n",
            "12  0.550695 -0.043328       0  ...            1             0            0\n",
            "13  0.088551  2.956322       0  ...            0             0            0\n",
            "14  0.106422  1.289850       1  ...            0             0            1\n",
            "15 -1.251596  0.956555       1  ...            0             0            1\n",
            "16 -0.179336 -0.876564       1  ...            1             0            0\n",
            "17 -0.536756 -1.376506       0  ...            0             0            0\n",
            "18 -0.804821 -1.209859       0  ...            0             0            1\n",
            "19  1.321830  0.289966       0  ...            0             0            0\n",
            "\n",
            "[20 rows x 14 columns]\n"
          ],
          "name": "stdout"
        }
      ]
    }
  ]
}